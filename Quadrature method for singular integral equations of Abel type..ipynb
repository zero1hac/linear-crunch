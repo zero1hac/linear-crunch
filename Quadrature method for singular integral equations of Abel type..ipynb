{
 "cells": [
  {
   "cell_type": "code",
   "execution_count": 1,
   "metadata": {
    "collapsed": false
   },
   "outputs": [
    {
     "name": "stderr",
     "output_type": "stream",
     "text": [
      "/usr/local/lib/python2.7/dist-packages/matplotlib/font_manager.py:273: UserWarning: Matplotlib is building the font cache using fc-list. This may take a moment.\n",
      "  warnings.warn('Matplotlib is building the font cache using fc-list. This may take a moment.')\n"
     ]
    }
   ],
   "source": [
    "#First method implementation\n",
    "import matplotlib.pyplot as plt\n",
    "from scipy.interpolate import interp1d\n",
    "\n",
    "# To get the intensity function for the integral \n",
    "x = [0, 0.4, 0.5, 0.8, 1.0, 1.2, 1.5, 1.6, 2.0, 2.4, 2.8, 3.2, 3.6, 3.8 ]\n",
    "y = [0.044, 0.042, 0.043, 0.044, 0.045, 0.046, 0.048, 0.05, 0.053, 0.062,0.074, 0.088, 0.0885, 0.089 ]\n",
    "func = interp1d(x, y, kind='cubic')\n",
    "%matplotlib inline\n"
   ]
  },
  {
   "cell_type": "code",
   "execution_count": 2,
   "metadata": {
    "collapsed": false
   },
   "outputs": [
    {
     "data": {
      "image/png": "[encoded data removed]",
      "text/plain": [
       "<matplotlib.figure.Figure at 0x7fd5c40a8f50>"
      ]
     },
     "metadata": {},
     "output_type": "display_data"
    }
   ],
   "source": [
    "#Plot of intensity vs co-axial distance\n",
    "plt.plot(x, func(x) , '--')\n",
    "plt.ylabel('Intensity I(x) = Wm^-1')\n",
    "plt.xlabel('x, cm')\n",
    "plt.grid(True)\n",
    "plt.show()"
   ]
  },
  {
   "cell_type": "code",
   "execution_count": 3,
   "metadata": {
    "collapsed": false
   },
   "outputs": [
    {
     "name": "stderr",
     "output_type": "stream",
     "text": [
      "/usr/local/lib/python2.7/dist-packages/ipykernel/__main__.py:6: RuntimeWarning: divide by zero encountered in log\n"
     ]
    }
   ],
   "source": [
    "import numpy as np\n",
    "x_arr = np.array(x)\n",
    "#Calculating source function q(x) for different values of x with value\n",
    "# of planck's value equal to 5 ASSUMPTION take plank's value equal to 5 as it is unknown to us until the \n",
    "# of the working environment is unknown\n",
    "yt = -1* np.log(x_arr / 5)\n",
    "\n",
    "\n",
    "#This function returns the value of q at xi point\n",
    "def return_qx(x, y, xi):\n",
    "    '''\n",
    "    Takes values of x, y(values for source function), xi(the point at which the value of source function\n",
    "    is required)\n",
    "    Returns : value of qxi\n",
    "    '''\n",
    "    y = list(y)\n",
    "    y[0] = y[1]\n",
    "    ti = interp1d(x, y, kind='cubic')\n",
    "    return ti(xi)\n",
    "tg = interp1d(x, list(yt), kind='cubic')\n",
    "yt = list(yt)\n",
    "yt[0] = yt[1]\n",
    "tg = interp1d(x, yt, kind='cubic')"
   ]
  },
  {
   "cell_type": "code",
   "execution_count": 4,
   "metadata": {
    "collapsed": false
   },
   "outputs": [
    {
     "data": {
      "image/png": "[encoded data removed]",
      "text/plain": [
       "<matplotlib.figure.Figure at 0x7fd5869fe350>"
      ]
     },
     "metadata": {},
     "output_type": "display_data"
    }
   ],
   "source": [
    "#Plot for source function vs the distance\n",
    "plt.plot(x[1:], tg(x[1:]) , '--')\n",
    "plt.ylabel('Source function q(x) ')\n",
    "plt.xlabel('x, cm')\n",
    "plt.grid(True)\n",
    "plt.show()"
   ]
  },
  {
   "cell_type": "code",
   "execution_count": 5,
   "metadata": {
    "collapsed": true
   },
   "outputs": [],
   "source": [
    "#This function will give the value or pij as defined in the docuemnt\n",
    "def return_pij(i, j, r_range, x_range):\n",
    "    '''\n",
    "    Parameters : value of i and j, mesh points r_range, and x_range\n",
    "    Returns : Value of pij at (xi,rj)\n",
    "    '''\n",
    "    pij = (r_range[j+1] - x_range[i])**0.5 - (r_range[j] - x_range[i])**0.5\n",
    "    return pij"
   ]
  },
  {
   "cell_type": "code",
   "execution_count": 7,
   "metadata": {
    "collapsed": false
   },
   "outputs": [
    {
     "data": {
      "text/plain": [
       "array(0.32850406697203505)"
      ]
     },
     "execution_count": 7,
     "metadata": {},
     "output_type": "execute_result"
    }
   ],
   "source": [
    "#Creating steps for x in the range 0 to 3.7 with jump of 0.02\n",
    "x_range = np.arange(0,3.7, 0.02)\n",
    "tg(x_range[180])"
   ]
  },
  {
   "cell_type": "code",
   "execution_count": 8,
   "metadata": {
    "collapsed": true
   },
   "outputs": [],
   "source": [
    "#to create the uniform mesh we will give r_range as same as x_range\n",
    "r_range = x_range"
   ]
  },
  {
   "cell_type": "code",
   "execution_count": 10,
   "metadata": {
    "collapsed": false
   },
   "outputs": [],
   "source": [
    "#Creating a list to store the values of k function at differeny values of xi\n",
    "k = [0]*len(x_range)"
   ]
  },
  {
   "cell_type": "code",
   "execution_count": 11,
   "metadata": {
    "collapsed": true
   },
   "outputs": [],
   "source": [
    "#Evaluating k from the back, k(n-1)\n",
    "kn_ = (return_qx(x, list(yt), x_range[len(x_range) - 2])/2.0)/ (return_pij(len(x_range) - 2, len(x_range) - 2, r_range, x_range) )"
   ]
  },
  {
   "cell_type": "code",
   "execution_count": 12,
   "metadata": {
    "collapsed": true
   },
   "outputs": [],
   "source": [
    "#Append k(n-1) into the list k\n",
    "k[len(x_range) - 1] = kn_"
   ]
  },
  {
   "cell_type": "code",
   "execution_count": 13,
   "metadata": {
    "collapsed": true
   },
   "outputs": [],
   "source": [
    "arr_t = range(len(x_range))"
   ]
  },
  {
   "cell_type": "code",
   "execution_count": 14,
   "metadata": {
    "collapsed": true
   },
   "outputs": [],
   "source": [
    "arr_t.reverse()"
   ]
  },
  {
   "cell_type": "code",
   "execution_count": 16,
   "metadata": {
    "collapsed": false
   },
   "outputs": [],
   "source": [
    "#loop to calculate the rest of k(xi) with pij and previous k(xi)\n",
    "for i in arr_t[1:]:\n",
    "    sigma = 0\n",
    "    for j in range(i+1, 184 ):\n",
    "        sigma = sigma + return_pij(i, j, r_range, x_range) *k[j]\n",
    "    kn_minus = (return_qx(x, list(yt), x_range[i])/2.0 - sigma)/ return_pij(i, i, r_range, x_range)\n",
    "    k[i] = kn_minus"
   ]
  },
  {
   "cell_type": "code",
   "execution_count": 22,
   "metadata": {
    "collapsed": false
   },
   "outputs": [
    {
     "data": {
      "image/png": "[encoded data removed]",
      "text/plain": [
       "<matplotlib.figure.Figure at 0x7fd586587310>"
      ]
     },
     "metadata": {},
     "output_type": "display_data"
    }
   ],
   "source": [
    "#Plotting the final evaluated k values with the x steps on x-axis\n",
    "plt.plot(x_range[:-10], k[:-10] , '-')\n",
    "plt.ylabel('Unkown function k(x) ')\n",
    "plt.xlabel('x, cm')\n",
    "plt.grid(True)\n",
    "plt.show()"
   ]
  },
  {
   "cell_type": "code",
   "execution_count": null,
   "metadata": {
    "collapsed": true
   },
   "outputs": [],
   "source": []
  }
 ],
 "metadata": {
  "kernelspec": {
   "display_name": "Python 2",
   "language": "python",
   "name": "python2"
  },
  "language_info": {
   "codemirror_mode": {
    "name": "ipython",
    "version": 2
   },
   "file_extension": ".py",
   "mimetype": "text/x-python",
   "name": "python",
   "nbconvert_exporter": "python",
   "pygments_lexer": "ipython2",
   "version": "2.7.6"
  }
 },
 "nbformat": 4,
 "nbformat_minor": 0
}
